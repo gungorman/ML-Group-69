{
 "cells": [
  {
   "cell_type": "code",
   "execution_count": null,
   "id": "0adb8d02",
   "metadata": {},
   "outputs": [],
   "source": [
    "'''Imports'''\n",
    "import numpy as np\n",
    "import pandas as pd\n",
    "from sklearn.preprocessing import StandardScaler\n",
    "from sklearn.preprocessing import MinMaxScaler\n",
    "from sklearn.neighbors import KNeighborsRegressor\n",
    "from sklearn.linear_model import SGDRegressor\n",
    "from sklearn.metrics import mean_absolute_error\n",
    "from sklearn.model_selection import train_test_split\n",
    "from sklearn.dummy import DummyRegressor\n",
    "import matplotlib.pyplot as plt\n",
    "randomstate = 42"
   ]
  },
  {
   "cell_type": "code",
   "execution_count": null,
   "id": "d5e24765",
   "metadata": {},
   "outputs": [],
   "source": [
    "'''Hyperparameters'''\n",
    "hp_nearest_neighbours = 20\n",
    "hp_alpha = 0.01\n",
    "hp_learning_rate = 0.001\n",
    "hp_epochs = 30"
   ]
  },
  {
   "cell_type": "code",
   "execution_count": null,
   "id": "e57e79b6",
   "metadata": {},
   "outputs": [],
   "source": [
    "'''Pre-Processing'''\n",
    "data = pd.read_csv('football_wages.csv')\n",
    "cleaned_data = data.drop(\"nationality_name\", axis=1)\n",
    "X = cleaned_data.drop(\"log_wages\", axis=1).to_numpy()\n",
    "y = cleaned_data[\"log_wages\"].to_numpy()\n",
    "X_train, X_test_val, y_train, y_test_val = train_test_split(X, y, test_size=0.2, random_state=randomstate)\n",
    "X_test, X_val, y_test, y_val = train_test_split(X_test_val, y_test_val, test_size=0.5, random_state=randomstate)"
   ]
  },
  {
   "cell_type": "code",
   "execution_count": null,
   "id": "8e2e6772",
   "metadata": {},
   "outputs": [],
   "source": [
    "def pipeline_standard():\n",
    "    scaler = StandardScaler()\n",
    "    X_train_scaled = scaler.fit_transform(X_train)\n",
    "    X_test_scaled = scaler.transform(X_test)\n",
    "    X_val_scaled = scaler.transform(X_val)\n",
    "    autograder_data_scaled = scaler.transform(autograder_data_numpy)\n",
    "    return X_train_scaled, X_test_scaled, X_val_scaled, autograder_data_scaled\n",
    "\n",
    "def pipeline_minmax():\n",
    "    scaler = MinMaxScaler()\n",
    "    X_train_scaled = scaler.fit_transform(X_train)\n",
    "    X_test_scaled = scaler.transform(X_test)\n",
    "    X_val_scaled = scaler.transform(X_val)\n",
    "    return X_train_scaled, X_test_scaled, X_val_scaled\n",
    "\n",
    "X_train_scaled, X_test_scaled, X_val_scaled  = pipeline_minmax()"
   ]
  },
  {
   "cell_type": "code",
   "execution_count": null,
   "id": "d4fe026f",
   "metadata": {},
   "outputs": [],
   "source": [
    "'''Dummy'''\n",
    "def baseline_model():\n",
    "    dummy = DummyRegressor(strategy='median')\n",
    "    dummy.fit(X_train_scaled, y_train)\n",
    "    y_pred = dummy.predict(X_test_scaled)\n",
    "    mae_dummy = mean_absolute_error(y_test, y_pred)\n",
    "    return mae_dummy"
   ]
  },
  {
   "cell_type": "code",
   "execution_count": null,
   "id": "6d987b68",
   "metadata": {},
   "outputs": [],
   "source": [
    "'''KNN'''\n",
    "def knn(neighbours):\n",
    "    knn = KNeighborsRegressor(n_neighbors=neighbours)\n",
    "    knn.fit(X_train_scaled, y_train)\n",
    "    y_pred_knn = knn.predict(X_test_scaled)\n",
    "    mae_knn_test = mean_absolute_error(y_test, y_pred_knn)\n",
    "    y_pred_val = knn.predict(X_val_scaled)\n",
    "    mae_knn_val = mean_absolute_error(y_test, y_pred_val)\n",
    "    return  mae_knn_test, mae_knn_val"
   ]
  },
  {
   "cell_type": "code",
   "execution_count": null,
   "id": "b2000d6f",
   "metadata": {},
   "outputs": [],
   "source": [
    "'''SGD'''\n",
    "def sgd(alpha_, learning_rate_, epochs_):\n",
    "    sgd = SGDRegressor(\n",
    "        loss='epsilon_insensitive',\n",
    "        alpha=alpha_,\n",
    "        learning_rate='constant',\n",
    "        eta0=learning_rate_,\n",
    "        warm_start=True,  \n",
    "        max_iter=1,\n",
    "        random_state=randomstate\n",
    "    )\n",
    "    mae_sgd_list = []\n",
    "    for _ in range(epochs_):\n",
    "        sgd.partial_fit(X_train_scaled, y_train)\n",
    "        y_pred_sgd = sgd.predict(X_test_scaled)\n",
    "        mae_sgd_test = mean_absolute_error(y_test, y_pred_sgd)\n",
    "        mae_sgd_list.append(mae_sgd_test)\n",
    "        y_pred_sgd_val = sgd.predict(X_val_scaled)\n",
    "        mae_sgd_val = mean_absolute_error(y_val, y_pred_sgd_val)\n",
    "    return mae_sgd_test, mae_sgd_list, mae_sgd_val, sgd"
   ]
  },
  {
   "cell_type": "code",
   "execution_count": null,
   "id": "fc73a998",
   "metadata": {},
   "outputs": [],
   "source": [
    "'''Plotter'''\n",
    "def plot(x, y, title=\"Line Plot\", xlabel=\"X\", ylabel=\"Y\"):\n",
    "    plt.figure(figsize=(10, 6))\n",
    "    plt.plot(x, y, alpha=0.7)\n",
    "    plt.title(title)\n",
    "    plt.xlabel(xlabel)\n",
    "    plt.ylabel(ylabel)\n",
    "    plt.grid(True)\n",
    "    plt.show()"
   ]
  },
  {
   "cell_type": "code",
   "execution_count": null,
   "id": "882cb839",
   "metadata": {},
   "outputs": [],
   "source": [
    "'''Hyperparameter Analysis'''\n",
    "def knn_neighbours():\n",
    "    knn_mae_list = []\n",
    "    knn_neighbours =[]\n",
    "    for i in range(1,100):\n",
    "        knn_neighbours.append(i)\n",
    "        knn_mae_list.append(knn(i)[0])\n",
    "    best_mae = min(knn_mae_list)\n",
    "    index = knn_mae_list.index(best_mae)\n",
    "    best_num_neighbours = knn_neighbours[index]\n",
    "    #print(f'for {best_num_neighbours} neighbours, MAE of {best_mae}')\n",
    "    #plot(knn_neighbours, knn_mae_list, 'KNN number of Neighbour Analysis', 'Number of Neighbours', 'MAE')\n",
    "    return best_num_neighbours, best_mae, "
   ]
  }
 ],
 "metadata": {
  "language_info": {
   "name": "python"
  }
 },
 "nbformat": 4,
 "nbformat_minor": 5
}
